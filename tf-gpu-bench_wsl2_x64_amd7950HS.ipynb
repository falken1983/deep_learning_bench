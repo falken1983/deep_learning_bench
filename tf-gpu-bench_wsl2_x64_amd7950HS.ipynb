{
 "cells": [
  {
   "cell_type": "markdown",
   "metadata": {},
   "source": [
    "# Tensorflow Benchmarking (WSL2)\n",
    "\n",
    "`Keras-Tensorflow` benchmarking for Ryzen 7950HHS `CPU` under WSL2 with Mobile NVIDIA RTX 4060 `GPU`."
   ]
  },
  {
   "cell_type": "code",
   "execution_count": 1,
   "metadata": {},
   "outputs": [
    {
     "name": "stderr",
     "output_type": "stream",
     "text": [
      "2023-07-02 17:09:11.200505: I tensorflow/core/util/port.cc:110] oneDNN custom operations are on. You may see slightly different numerical results due to floating-point round-off errors from different computation orders. To turn them off, set the environment variable `TF_ENABLE_ONEDNN_OPTS=0`.\n",
      "2023-07-02 17:09:11.224489: I tensorflow/core/platform/cpu_feature_guard.cc:182] This TensorFlow binary is optimized to use available CPU instructions in performance-critical operations.\n",
      "To enable the following instructions: AVX2 AVX512F AVX512_VNNI AVX512_BF16 FMA, in other operations, rebuild TensorFlow with the appropriate compiler flags.\n",
      "2023-07-02 17:09:11.804730: W tensorflow/compiler/tf2tensorrt/utils/py_utils.cc:38] TF-TRT Warning: Could not find TensorRT\n"
     ]
    }
   ],
   "source": [
    "import tensorflow"
   ]
  },
  {
   "cell_type": "code",
   "execution_count": 2,
   "metadata": {},
   "outputs": [
    {
     "name": "stderr",
     "output_type": "stream",
     "text": [
      "2023-07-02 17:09:12.584816: I tensorflow/compiler/xla/stream_executor/cuda/cuda_gpu_executor.cc:982] could not open file to read NUMA node: /sys/bus/pci/devices/0000:01:00.0/numa_node\n",
      "Your kernel may have been built without NUMA support.\n",
      "2023-07-02 17:09:12.608055: I tensorflow/compiler/xla/stream_executor/cuda/cuda_gpu_executor.cc:982] could not open file to read NUMA node: /sys/bus/pci/devices/0000:01:00.0/numa_node\n",
      "Your kernel may have been built without NUMA support.\n",
      "2023-07-02 17:09:12.608111: I tensorflow/compiler/xla/stream_executor/cuda/cuda_gpu_executor.cc:982] could not open file to read NUMA node: /sys/bus/pci/devices/0000:01:00.0/numa_node\n",
      "Your kernel may have been built without NUMA support.\n"
     ]
    },
    {
     "data": {
      "text/plain": [
       "[PhysicalDevice(name='/physical_device:CPU:0', device_type='CPU'),\n",
       " PhysicalDevice(name='/physical_device:GPU:0', device_type='GPU')]"
      ]
     },
     "execution_count": 2,
     "metadata": {},
     "output_type": "execute_result"
    }
   ],
   "source": [
    "tensorflow.config.experimental.list_physical_devices()"
   ]
  },
  {
   "cell_type": "code",
   "execution_count": 3,
   "metadata": {},
   "outputs": [
    {
     "data": {
      "text/plain": [
       "True"
      ]
     },
     "execution_count": 3,
     "metadata": {},
     "output_type": "execute_result"
    }
   ],
   "source": [
    "tensorflow.test.is_built_with_cuda()"
   ]
  },
  {
   "cell_type": "code",
   "execution_count": 4,
   "metadata": {},
   "outputs": [],
   "source": [
    "import tensorflow as tf\n",
    "from tensorflow import keras\n",
    "import numpy as np\n",
    "import matplotlib.pyplot as plt"
   ]
  },
  {
   "cell_type": "code",
   "execution_count": 5,
   "metadata": {},
   "outputs": [],
   "source": [
    "(X_train, y_train), (X_test, y_test) = keras.datasets.cifar10.load_data()"
   ]
  },
  {
   "cell_type": "code",
   "execution_count": 6,
   "metadata": {},
   "outputs": [],
   "source": [
    "# scaling image values between 0-1\n",
    "X_train_scaled = X_train/255\n",
    "X_test_scaled = X_test/255\n",
    "# one hot encoding labels\n",
    "y_train_encoded = keras.utils.to_categorical(y_train, num_classes = 10, dtype = 'float32')\n",
    "y_test_encoded = keras.utils.to_categorical(y_test, num_classes = 10, dtype = 'float32')"
   ]
  },
  {
   "cell_type": "code",
   "execution_count": 7,
   "metadata": {},
   "outputs": [],
   "source": [
    "def get_model():\n",
    "    model = keras.Sequential([\n",
    "        keras.layers.Flatten(input_shape=(32,32,3)),\n",
    "        keras.layers.Dense(3000, activation='relu'),\n",
    "        keras.layers.Dense(1000, activation='relu'),\n",
    "        keras.layers.Dense(10, activation='sigmoid')    \n",
    "    ])\n",
    "    model.compile(optimizer='SGD',\n",
    "              loss='categorical_crossentropy',\n",
    "              metrics=['accuracy'])\n",
    "    return model"
   ]
  },
  {
   "cell_type": "code",
   "execution_count": 8,
   "metadata": {},
   "outputs": [
    {
     "name": "stdout",
     "output_type": "stream",
     "text": [
      "Model: \"sequential\"\n",
      "_________________________________________________________________\n",
      " Layer (type)                Output Shape              Param #   \n",
      "=================================================================\n",
      " flatten (Flatten)           (None, 3072)              0         \n",
      "                                                                 \n",
      " dense (Dense)               (None, 3000)              9219000   \n",
      "                                                                 \n",
      " dense_1 (Dense)             (None, 1000)              3001000   \n",
      "                                                                 \n",
      " dense_2 (Dense)             (None, 10)                10010     \n",
      "                                                                 \n",
      "=================================================================\n",
      "Total params: 12,230,010\n",
      "Trainable params: 12,230,010\n",
      "Non-trainable params: 0\n",
      "_________________________________________________________________\n"
     ]
    },
    {
     "name": "stderr",
     "output_type": "stream",
     "text": [
      "2023-07-02 17:09:19.926805: I tensorflow/compiler/xla/stream_executor/cuda/cuda_gpu_executor.cc:982] could not open file to read NUMA node: /sys/bus/pci/devices/0000:01:00.0/numa_node\n",
      "Your kernel may have been built without NUMA support.\n",
      "2023-07-02 17:09:19.926891: I tensorflow/compiler/xla/stream_executor/cuda/cuda_gpu_executor.cc:982] could not open file to read NUMA node: /sys/bus/pci/devices/0000:01:00.0/numa_node\n",
      "Your kernel may have been built without NUMA support.\n",
      "2023-07-02 17:09:19.926908: I tensorflow/compiler/xla/stream_executor/cuda/cuda_gpu_executor.cc:982] could not open file to read NUMA node: /sys/bus/pci/devices/0000:01:00.0/numa_node\n",
      "Your kernel may have been built without NUMA support.\n",
      "2023-07-02 17:09:20.491204: I tensorflow/compiler/xla/stream_executor/cuda/cuda_gpu_executor.cc:982] could not open file to read NUMA node: /sys/bus/pci/devices/0000:01:00.0/numa_node\n",
      "Your kernel may have been built without NUMA support.\n",
      "2023-07-02 17:09:20.491275: I tensorflow/compiler/xla/stream_executor/cuda/cuda_gpu_executor.cc:982] could not open file to read NUMA node: /sys/bus/pci/devices/0000:01:00.0/numa_node\n",
      "Your kernel may have been built without NUMA support.\n",
      "2023-07-02 17:09:20.491282: I tensorflow/core/common_runtime/gpu/gpu_device.cc:1722] Could not identify NUMA node of platform GPU id 0, defaulting to 0.  Your kernel may not have been built with NUMA support.\n",
      "2023-07-02 17:09:20.491309: I tensorflow/compiler/xla/stream_executor/cuda/cuda_gpu_executor.cc:982] could not open file to read NUMA node: /sys/bus/pci/devices/0000:01:00.0/numa_node\n",
      "Your kernel may have been built without NUMA support.\n",
      "2023-07-02 17:09:20.491340: I tensorflow/core/common_runtime/gpu/gpu_device.cc:1635] Created device /job:localhost/replica:0/task:0/device:GPU:0 with 5361 MB memory:  -> device: 0, name: NVIDIA GeForce RTX 4060 Laptop GPU, pci bus id: 0000:01:00.0, compute capability: 8.9\n"
     ]
    }
   ],
   "source": [
    "get_model().summary()"
   ]
  },
  {
   "cell_type": "code",
   "execution_count": null,
   "metadata": {},
   "outputs": [
    {
     "name": "stdout",
     "output_type": "stream",
     "text": [
      "Epoch 1/10\n",
      "   7/1563 [..............................] - ETA: 28s - loss: 2.3639 - accuracy: 0.1161"
     ]
    },
    {
     "name": "stderr",
     "output_type": "stream",
     "text": [
      "2023-07-02 17:08:19.398924: I tensorflow/compiler/xla/service/service.cc:169] XLA service 0x23dfb270 initialized for platform Host (this does not guarantee that XLA will be used). Devices:\n",
      "2023-07-02 17:08:19.400985: I tensorflow/compiler/xla/service/service.cc:177]   StreamExecutor device (0): Host, Default Version\n"
     ]
    },
    {
     "name": "stdout",
     "output_type": "stream",
     "text": [
      "1563/1563 [==============================] - 26s 17ms/step - loss: 1.8164 - accuracy: 0.3529\n",
      "Epoch 2/10\n",
      " 980/1563 [=================>............] - ETA: 9s - loss: 1.6426 - accuracy: 0.4161"
     ]
    }
   ],
   "source": [
    "#Comment out for CPU benchmarking\n",
    "%timeit -n1 -r1\n",
    "# CPU\n",
    "with tf.device('/CPU:0'):\n",
    "    model_gpu = get_model()\n",
    "    model_gpu.fit(X_train_scaled, y_train_encoded, epochs = 10)"
   ]
  },
  {
   "cell_type": "code",
   "execution_count": 9,
   "metadata": {},
   "outputs": [
    {
     "name": "stdout",
     "output_type": "stream",
     "text": [
      "Epoch 1/10\n"
     ]
    },
    {
     "name": "stderr",
     "output_type": "stream",
     "text": [
      "2023-07-02 17:09:28.172609: I tensorflow/compiler/xla/stream_executor/cuda/cuda_blas.cc:637] TensorFloat-32 will be used for the matrix multiplication. This will only be logged once.\n",
      "2023-07-02 17:09:28.175958: I tensorflow/compiler/xla/service/service.cc:169] XLA service 0x7fe37d5cfeb0 initialized for platform CUDA (this does not guarantee that XLA will be used). Devices:\n",
      "2023-07-02 17:09:28.175977: I tensorflow/compiler/xla/service/service.cc:177]   StreamExecutor device (0): NVIDIA GeForce RTX 4060 Laptop GPU, Compute Capability 8.9\n",
      "2023-07-02 17:09:28.394037: I tensorflow/compiler/xla/stream_executor/cuda/cuda_dnn.cc:424] Loaded cuDNN version 8600\n",
      "2023-07-02 17:09:28.443633: I ./tensorflow/compiler/jit/device_compiler.h:180] Compiled cluster using XLA!  This line is logged at most once for the lifetime of the process.\n"
     ]
    },
    {
     "name": "stdout",
     "output_type": "stream",
     "text": [
      "1563/1563 [==============================] - 9s 5ms/step - loss: 1.8103 - accuracy: 0.3548\n",
      "Epoch 2/10\n",
      "1563/1563 [==============================] - 7s 5ms/step - loss: 1.6214 - accuracy: 0.4267\n",
      "Epoch 3/10\n",
      "1563/1563 [==============================] - 7s 5ms/step - loss: 1.5407 - accuracy: 0.4562\n",
      "Epoch 4/10\n",
      "1563/1563 [==============================] - 7s 5ms/step - loss: 1.4812 - accuracy: 0.4782\n",
      "Epoch 5/10\n",
      "1563/1563 [==============================] - 7s 4ms/step - loss: 1.4315 - accuracy: 0.4976\n",
      "Epoch 6/10\n",
      "1563/1563 [==============================] - 7s 4ms/step - loss: 1.3885 - accuracy: 0.5126\n",
      "Epoch 7/10\n",
      "1563/1563 [==============================] - 7s 4ms/step - loss: 1.3488 - accuracy: 0.5264\n",
      "Epoch 8/10\n",
      "1563/1563 [==============================] - 7s 4ms/step - loss: 1.3162 - accuracy: 0.5377\n",
      "Epoch 9/10\n",
      "1563/1563 [==============================] - 7s 4ms/step - loss: 1.2835 - accuracy: 0.5525\n",
      "Epoch 10/10\n",
      "1563/1563 [==============================] - 7s 5ms/step - loss: 1.2539 - accuracy: 0.5592\n"
     ]
    }
   ],
   "source": [
    "%timeit -n1 -r1\n",
    "# GPU\n",
    "with tf.device('/GPU:0'):\n",
    "    model_gpu = get_model()\n",
    "    model_gpu.fit(X_train_scaled, y_train_encoded, epochs = 10)"
   ]
  },
  {
   "cell_type": "code",
   "execution_count": null,
   "metadata": {},
   "outputs": [],
   "source": []
  }
 ],
 "metadata": {
  "kernelspec": {
   "display_name": "Python 3 (ipykernel)",
   "language": "python",
   "name": "python3"
  },
  "language_info": {
   "codemirror_mode": {
    "name": "ipython",
    "version": 3
   },
   "file_extension": ".py",
   "mimetype": "text/x-python",
   "name": "python",
   "nbconvert_exporter": "python",
   "pygments_lexer": "ipython3",
   "version": "3.9.18"
  },
  "vscode": {
   "interpreter": {
    "hash": "3fd4c5ff48145558aeee7bdf0986b9eba2ca8a04e896c0014bc85c07f2be0437"
   }
  }
 },
 "nbformat": 4,
 "nbformat_minor": 4
}
